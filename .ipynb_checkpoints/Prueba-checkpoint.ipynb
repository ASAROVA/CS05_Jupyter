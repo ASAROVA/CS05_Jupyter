{
 "cells": [
  {
   "cell_type": "code",
   "execution_count": 1,
   "metadata": {},
   "outputs": [],
   "source": [
    "a = 3"
   ]
  },
  {
   "cell_type": "code",
   "execution_count": 2,
   "metadata": {},
   "outputs": [
    {
     "data": {
      "text/plain": [
       "3"
      ]
     },
     "execution_count": 2,
     "metadata": {},
     "output_type": "execute_result"
    }
   ],
   "source": [
    "a"
   ]
  },
  {
   "cell_type": "markdown",
   "metadata": {},
   "source": [
    "Soda Stereo:\n",
    "\n",
    "$m = \\frac { n \\sum x_i y_i - \\sum x_i \\sum y_i }\n",
    "          { n \\sum x_i^2 - (\\sum x_i)^2 }$"
   ]
  },
  {
   "cell_type": "markdown",
   "metadata": {},
   "source": [
    "Ali:\n",
    "\n",
    "$\\begin{bmatrix}\n",
    "    \\sum x_i^2 & \\sum x_i \\\\\n",
    "    \\sum x_i   & n \n",
    "\\end{bmatrix}\n",
    "\\begin{bmatrix}\n",
    "    m \\\\\n",
    "    b \n",
    "\\end{bmatrix} =\n",
    "\\begin{bmatrix}\n",
    "    \\sum x_i y_i \\\\\n",
    "    \\sum y_i\n",
    "\\end{bmatrix}$"
   ]
  },
  {
   "cell_type": "markdown",
   "metadata": {},
   "source": [
    "Ali:\n",
    "\n",
    "$\\begin{bmatrix} \n",
    "    \\sum x_i^2 & \\sum x_i \\\\ \n",
    "    \\sum x_i   & n \n",
    "\\end{bmatrix} \n",
    "\\begin{bmatrix} \n",
    "m \\\\ b  \n",
    "\\end{bmatrix} = \\begin{bmatrix} \\sum x_i y_i \\\\ \\sum y_i \\end{bmatrix}$"
   ]
  },
  {
   "cell_type": "markdown",
   "metadata": {},
   "source": [
    "$m = \\frac { n \\sum x_i y_i - \\sum x_i \\sum y_i }\n",
    "          { n \\sum x_i^2 - (\\sum x_i)^2 }$"
   ]
  },
  {
   "cell_type": "markdown",
   "metadata": {},
   "source": [
    "Ecua:\n",
    "\n",
    "\\begin{equation}\n",
    "    \\begin{bmatrix}\n",
    "    \\sum x_i^2 & \\sum x_i \\\\\n",
    "    \\sum x_i   & n \n",
    "    \\end{bmatrix}\n",
    "    \\begin{bmatrix}\n",
    "    m \\\\\n",
    "    b \n",
    "    \\end{bmatrix}\n",
    "    =\n",
    "    \\begin{bmatrix}\n",
    "    \\sum x_i y_i \\\\\n",
    "    \\sum y_i\n",
    "    \\end{bmatrix}\n",
    "\\label{eq:sistema_mb}\n",
    "\\end{equation}"
   ]
  },
  {
   "cell_type": "code",
   "execution_count": null,
   "metadata": {},
   "outputs": [],
   "source": []
  }
 ],
 "metadata": {
  "kernelspec": {
   "display_name": "Python 3",
   "language": "python",
   "name": "python3"
  },
  "language_info": {
   "codemirror_mode": {
    "name": "ipython",
    "version": 3
   },
   "file_extension": ".py",
   "mimetype": "text/x-python",
   "name": "python",
   "nbconvert_exporter": "python",
   "pygments_lexer": "ipython3",
   "version": "3.8.2"
  }
 },
 "nbformat": 4,
 "nbformat_minor": 4
}
